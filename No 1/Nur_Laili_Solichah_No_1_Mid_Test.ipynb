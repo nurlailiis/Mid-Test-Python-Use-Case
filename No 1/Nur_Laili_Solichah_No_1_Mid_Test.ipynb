{
  "nbformat": 4,
  "nbformat_minor": 0,
  "metadata": {
    "colab": {
      "name": "Nur Laili Solichah - No 1 Mid Test.ipynb",
      "provenance": [],
      "toc_visible": true
    },
    "kernelspec": {
      "name": "python3",
      "display_name": "Python 3"
    }
  },
  "cells": [
    {
      "cell_type": "markdown",
      "metadata": {
        "id": "GfLCTKGPYutd",
        "colab_type": "text"
      },
      "source": [
        "# Business Understanding\n",
        "The task is to predict the survival on the Titanic based on the dataset of the onboard passengers of the historical journey embarked on April 15, 1912. The features include Gender, Age, Passenger class, Ticket Fare, Port of Embarkation, Family, etc. It requires a binary classification of 1/0, 1 meaning Survived and 0 meaning not survived. The input dataset has been split into training and testing sets which are available to the public through Kaggle. The output requirement is a CSV file with 2 columns - PassengerID and Survival prediction (1/0)."
      ]
    },
    {
      "cell_type": "markdown",
      "metadata": {
        "id": "vD_bZLnwYw22",
        "colab_type": "text"
      },
      "source": [
        "# Data Understanding\n",
        "The Dataset provides the annual water usage in Baltimore from 1885 to 1963, or 79 years of data.\n",
        "The values are in the units of liters per capita per day, and there are 79 observations. <br>\n",
        "**Download the dataset here** \n",
        "https://drive.google.com/open?id=1axM3gfGxQq4T0wuwP51DVMQAecVFmpxL\n",
        "<br>\n",
        "**Then answer the question**\n",
        "1. Load the dataset as a Pandas Series and split into two, one for model development (dataset.csv) and the other for validation (validation.csv).\n",
        "2. Create summary of the dataset, with python function.\n",
        "3. Create A line plot of a time series dataset, it will provide a lot of insight into the problem.\n",
        "4. Group the annual data by decade and get an idea of the spread of observations for each decade and how this may be changing.\n",
        "5. Create models using ARIMA\n",
        "    - Split the dataset into train and test sets directly\n",
        "    The first 50% of the dataset will be held back to train the model.\n",
        "    - The remaining 50% of the dataset will be iterated and test the model.\n",
        "    - The ARIMA(p,d,q) model requires three parameters and is traditionally configured manually.\n",
        "    - Use an ARIMA(0,1,0) on the raw data may be a good starting point.\n",
        "    - When model trained, a one-step prediction made ang the prediction stored for later evaluation.\n",
        "    - The actual observation from the test dataset woll be added to the training dataset for the next iteration.\n",
        "    - The predictions made during the enumeration of the test dataset will be evaluated and an RMSE score reported.\n",
        "6. Calculate the RMSE using the helper function from the scikit-learn library, from dataset only\n",
        "    - Those RMSE will show you on average, how much the error/the model was wrong/gap between predection and expected value per capita per day for each prediction made."
      ]
    },
    {
      "cell_type": "markdown",
      "metadata": {
        "id": "gYJ9FhukZATV",
        "colab_type": "text"
      },
      "source": [
        "#### *1. Load the dataset as a Pandas Series and split into two, one for model development (dataset.csv) and the other for validation (validation.csv).*"
      ]
    },
    {
      "cell_type": "code",
      "metadata": {
        "id": "Z3uCnB3qY4N4",
        "colab_type": "code",
        "colab": {}
      },
      "source": [
        "import pandas as pd\n",
        "import numpy as np\n",
        "import seaborn as sns\n",
        "import matplotlib.pyplot as plt\n",
        "\n",
        "# import labelencoder\n",
        "from sklearn.preprocessing import LabelEncoder\n",
        "\n",
        "import warnings\n",
        "warnings.filterwarnings(\"ignore\")\n",
        "from sklearn.model_selection import train_test_split\n",
        "\n",
        "#import pacf/acf\n",
        "from statsmodels.tsa.stattools import acf,pacf\n",
        "from statsmodels.tsa.stattools import adfuller\n",
        "\n",
        "#import arima\n",
        "from statsmodels.tsa.arima_model import ARIMA\n",
        "from sklearn.metrics import mean_squared_error,mean_absolute_error"
      ],
      "execution_count": 0,
      "outputs": []
    },
    {
      "cell_type": "code",
      "metadata": {
        "id": "8Cc7kEAnZE5Z",
        "colab_type": "code",
        "outputId": "c7ad38e2-1def-4274-8d11-39c11e883d06",
        "colab": {
          "base_uri": "https://localhost:8080/",
          "height": 216
        }
      },
      "source": [
        "df =  pd.read_csv('water.csv', error_bad_lines=False)\n",
        "df.head()"
      ],
      "execution_count": 2,
      "outputs": [
        {
          "output_type": "stream",
          "text": [
            "b'Skipping line 82: expected 2 fields, saw 3\\n'\n"
          ],
          "name": "stderr"
        },
        {
          "output_type": "execute_result",
          "data": {
            "text/html": [
              "<div>\n",
              "<style scoped>\n",
              "    .dataframe tbody tr th:only-of-type {\n",
              "        vertical-align: middle;\n",
              "    }\n",
              "\n",
              "    .dataframe tbody tr th {\n",
              "        vertical-align: top;\n",
              "    }\n",
              "\n",
              "    .dataframe thead th {\n",
              "        text-align: right;\n",
              "    }\n",
              "</style>\n",
              "<table border=\"1\" class=\"dataframe\">\n",
              "  <thead>\n",
              "    <tr style=\"text-align: right;\">\n",
              "      <th></th>\n",
              "      <th>Year</th>\n",
              "      <th>Baltmore city annual water use, liters per capita per day, 1885-1968</th>\n",
              "    </tr>\n",
              "  </thead>\n",
              "  <tbody>\n",
              "    <tr>\n",
              "      <th>0</th>\n",
              "      <td>1885</td>\n",
              "      <td>356</td>\n",
              "    </tr>\n",
              "    <tr>\n",
              "      <th>1</th>\n",
              "      <td>1886</td>\n",
              "      <td>386</td>\n",
              "    </tr>\n",
              "    <tr>\n",
              "      <th>2</th>\n",
              "      <td>1887</td>\n",
              "      <td>397</td>\n",
              "    </tr>\n",
              "    <tr>\n",
              "      <th>3</th>\n",
              "      <td>1888</td>\n",
              "      <td>397</td>\n",
              "    </tr>\n",
              "    <tr>\n",
              "      <th>4</th>\n",
              "      <td>1889</td>\n",
              "      <td>413</td>\n",
              "    </tr>\n",
              "  </tbody>\n",
              "</table>\n",
              "</div>"
            ],
            "text/plain": [
              "   Year  Baltmore city annual water use, liters per capita per day, 1885-1968\n",
              "0  1885                                                356                   \n",
              "1  1886                                                386                   \n",
              "2  1887                                                397                   \n",
              "3  1888                                                397                   \n",
              "4  1889                                                413                   "
            ]
          },
          "metadata": {
            "tags": []
          },
          "execution_count": 2
        }
      ]
    },
    {
      "cell_type": "code",
      "metadata": {
        "id": "sLTdxI_6ZJ_E",
        "colab_type": "code",
        "outputId": "64c15701-6761-4348-d566-7a793ac149a5",
        "colab": {
          "base_uri": "https://localhost:8080/",
          "height": 35
        }
      },
      "source": [
        "df.shape"
      ],
      "execution_count": 3,
      "outputs": [
        {
          "output_type": "execute_result",
          "data": {
            "text/plain": [
              "(79, 2)"
            ]
          },
          "metadata": {
            "tags": []
          },
          "execution_count": 3
        }
      ]
    },
    {
      "cell_type": "markdown",
      "metadata": {
        "id": "NvrWzBNPcPFK",
        "colab_type": "text"
      },
      "source": [
        "We know that this dataset (Annual Water Usage in Baltimore) contain 79 rows and 2 column"
      ]
    },
    {
      "cell_type": "code",
      "metadata": {
        "id": "vZOQmCPIZMxb",
        "colab_type": "code",
        "colab": {}
      },
      "source": [
        "# rename colums Baltmore city annual water use, liters per capita per day, 1885-1968 as Year\n",
        "df = df.rename(columns={'Baltmore city annual water use, liters per capita per day, 1885-1968': 'water'})\n",
        "df.water = df.water.astype('float64')"
      ],
      "execution_count": 0,
      "outputs": []
    },
    {
      "cell_type": "code",
      "metadata": {
        "id": "rzbUn3AqZRG3",
        "colab_type": "code",
        "outputId": "0e8abffe-59eb-4494-910f-abde546097ca",
        "colab": {
          "base_uri": "https://localhost:8080/",
          "height": 228
        }
      },
      "source": [
        "# set year as a index used to analyzed in time series analysis\n",
        "df = df.set_index('Year')\n",
        "df.head()"
      ],
      "execution_count": 5,
      "outputs": [
        {
          "output_type": "execute_result",
          "data": {
            "text/html": [
              "<div>\n",
              "<style scoped>\n",
              "    .dataframe tbody tr th:only-of-type {\n",
              "        vertical-align: middle;\n",
              "    }\n",
              "\n",
              "    .dataframe tbody tr th {\n",
              "        vertical-align: top;\n",
              "    }\n",
              "\n",
              "    .dataframe thead th {\n",
              "        text-align: right;\n",
              "    }\n",
              "</style>\n",
              "<table border=\"1\" class=\"dataframe\">\n",
              "  <thead>\n",
              "    <tr style=\"text-align: right;\">\n",
              "      <th></th>\n",
              "      <th>water</th>\n",
              "    </tr>\n",
              "    <tr>\n",
              "      <th>Year</th>\n",
              "      <th></th>\n",
              "    </tr>\n",
              "  </thead>\n",
              "  <tbody>\n",
              "    <tr>\n",
              "      <th>1885</th>\n",
              "      <td>356.0</td>\n",
              "    </tr>\n",
              "    <tr>\n",
              "      <th>1886</th>\n",
              "      <td>386.0</td>\n",
              "    </tr>\n",
              "    <tr>\n",
              "      <th>1887</th>\n",
              "      <td>397.0</td>\n",
              "    </tr>\n",
              "    <tr>\n",
              "      <th>1888</th>\n",
              "      <td>397.0</td>\n",
              "    </tr>\n",
              "    <tr>\n",
              "      <th>1889</th>\n",
              "      <td>413.0</td>\n",
              "    </tr>\n",
              "  </tbody>\n",
              "</table>\n",
              "</div>"
            ],
            "text/plain": [
              "      water\n",
              "Year       \n",
              "1885  356.0\n",
              "1886  386.0\n",
              "1887  397.0\n",
              "1888  397.0\n",
              "1889  413.0"
            ]
          },
          "metadata": {
            "tags": []
          },
          "execution_count": 5
        }
      ]
    },
    {
      "cell_type": "code",
      "metadata": {
        "id": "NcRdMkaGZUCA",
        "colab_type": "code",
        "outputId": "8f93931d-8dce-4484-d2b7-0f1cccc451c4",
        "colab": {
          "base_uri": "https://localhost:8080/",
          "height": 35
        }
      },
      "source": [
        "# state dataset 69 row \n",
        "split_point = len(df) - 10\n",
        "dataset, validation = df[0:split_point], df[split_point:]\n",
        "print('Dataset %d, Validation %d' % (len(dataset), len(validation)))\n",
        "dataset.to_csv('dataset.csv', index=False)\n",
        "validation.to_csv('validation.csv', index=False)"
      ],
      "execution_count": 6,
      "outputs": [
        {
          "output_type": "stream",
          "text": [
            "Dataset 69, Validation 10\n"
          ],
          "name": "stdout"
        }
      ]
    },
    {
      "cell_type": "markdown",
      "metadata": {
        "id": "YMOyqJ-jZaKw",
        "colab_type": "text"
      },
      "source": [
        "#### *2. Create summary of the dataset, with python function.*"
      ]
    },
    {
      "cell_type": "code",
      "metadata": {
        "id": "rcM6Xr1mZb-w",
        "colab_type": "code",
        "outputId": "7f4b4894-af21-45ca-bf98-911fae10b301",
        "colab": {
          "base_uri": "https://localhost:8080/",
          "height": 126
        }
      },
      "source": [
        "df.info()"
      ],
      "execution_count": 7,
      "outputs": [
        {
          "output_type": "stream",
          "text": [
            "<class 'pandas.core.frame.DataFrame'>\n",
            "Int64Index: 79 entries, 1885 to 1963\n",
            "Data columns (total 1 columns):\n",
            "water    79 non-null float64\n",
            "dtypes: float64(1)\n",
            "memory usage: 1.2 KB\n"
          ],
          "name": "stdout"
        }
      ]
    },
    {
      "cell_type": "markdown",
      "metadata": {
        "id": "wH0u_BCadSFr",
        "colab_type": "text"
      },
      "source": [
        "all the types of data is float64"
      ]
    },
    {
      "cell_type": "code",
      "metadata": {
        "id": "kpQYp2wOZf06",
        "colab_type": "code",
        "outputId": "5d423f43-21e1-4043-f0ff-feb697170f2c",
        "colab": {
          "base_uri": "https://localhost:8080/",
          "height": 288
        }
      },
      "source": [
        "df.describe()"
      ],
      "execution_count": 8,
      "outputs": [
        {
          "output_type": "execute_result",
          "data": {
            "text/html": [
              "<div>\n",
              "<style scoped>\n",
              "    .dataframe tbody tr th:only-of-type {\n",
              "        vertical-align: middle;\n",
              "    }\n",
              "\n",
              "    .dataframe tbody tr th {\n",
              "        vertical-align: top;\n",
              "    }\n",
              "\n",
              "    .dataframe thead th {\n",
              "        text-align: right;\n",
              "    }\n",
              "</style>\n",
              "<table border=\"1\" class=\"dataframe\">\n",
              "  <thead>\n",
              "    <tr style=\"text-align: right;\">\n",
              "      <th></th>\n",
              "      <th>water</th>\n",
              "    </tr>\n",
              "  </thead>\n",
              "  <tbody>\n",
              "    <tr>\n",
              "      <th>count</th>\n",
              "      <td>79.000000</td>\n",
              "    </tr>\n",
              "    <tr>\n",
              "      <th>mean</th>\n",
              "      <td>512.025316</td>\n",
              "    </tr>\n",
              "    <tr>\n",
              "      <th>std</th>\n",
              "      <td>75.685072</td>\n",
              "    </tr>\n",
              "    <tr>\n",
              "      <th>min</th>\n",
              "      <td>344.000000</td>\n",
              "    </tr>\n",
              "    <tr>\n",
              "      <th>25%</th>\n",
              "      <td>462.000000</td>\n",
              "    </tr>\n",
              "    <tr>\n",
              "      <th>50%</th>\n",
              "      <td>503.000000</td>\n",
              "    </tr>\n",
              "    <tr>\n",
              "      <th>75%</th>\n",
              "      <td>581.000000</td>\n",
              "    </tr>\n",
              "    <tr>\n",
              "      <th>max</th>\n",
              "      <td>662.000000</td>\n",
              "    </tr>\n",
              "  </tbody>\n",
              "</table>\n",
              "</div>"
            ],
            "text/plain": [
              "            water\n",
              "count   79.000000\n",
              "mean   512.025316\n",
              "std     75.685072\n",
              "min    344.000000\n",
              "25%    462.000000\n",
              "50%    503.000000\n",
              "75%    581.000000\n",
              "max    662.000000"
            ]
          },
          "metadata": {
            "tags": []
          },
          "execution_count": 8
        }
      ]
    },
    {
      "cell_type": "code",
      "metadata": {
        "id": "T8COxFY0hN6S",
        "colab_type": "code",
        "colab": {
          "base_uri": "https://localhost:8080/",
          "height": 35
        },
        "outputId": "c17f0168-7e1f-4d21-a3f3-e1705feec82a"
      },
      "source": [
        "X_train, X_validation = train_test_split(df, test_size=0.33, shuffle=False)\n",
        "len(X_train), len(X_validation)"
      ],
      "execution_count": 9,
      "outputs": [
        {
          "output_type": "execute_result",
          "data": {
            "text/plain": [
              "(52, 27)"
            ]
          },
          "metadata": {
            "tags": []
          },
          "execution_count": 9
        }
      ]
    },
    {
      "cell_type": "markdown",
      "metadata": {
        "id": "_9PklEh-ZjU3",
        "colab_type": "text"
      },
      "source": [
        "#### *3. Create A line plot of a time series dataset, it will provide a lot of insight into the problem.*"
      ]
    },
    {
      "cell_type": "code",
      "metadata": {
        "id": "ofuQS5E0ZkV_",
        "colab_type": "code",
        "outputId": "39c36b4c-300f-4e65-f143-0a3d8e0c00f0",
        "colab": {
          "base_uri": "https://localhost:8080/",
          "height": 513
        }
      },
      "source": [
        "# create line plot from dataset.csv or train data\n",
        "X_train.plot(figsize=(8,8))\n",
        "plt.xlabel('Year')\n",
        "plt.ylabel('Annual Water Usage')\n",
        "plt.title('Annual Water Usage in Baltimore')\n",
        "plt.show()"
      ],
      "execution_count": 10,
      "outputs": [
        {
          "output_type": "display_data",
          "data": {
            "image/png": "[encoded data removed]",
            "text/plain": [
              "<Figure size 576x576 with 1 Axes>"
            ]
          },
          "metadata": {
            "tags": []
          }
        }
      ]
    },
    {
      "cell_type": "markdown",
      "metadata": {
        "id": "OMNt-oW_dylK",
        "colab_type": "text"
      },
      "source": [
        "Based on the **line plot**, we can know that:\n",
        "1. Annual water usage in Baltimore is fluctuative and the trend tends to increase\n",
        "2. At some moment the water usage is dropped dramatically, and\n",
        "3. At some moment the water usage is rose dramatically. <br>\n",
        "\n",
        "Then can do **Rolling Statistics**. Because, it can be seen that the plot of rolling mean and rolling std is in a straight line (it does not have a specific pattern or pattern). So it can be said that the feature water use is stationary in the range/variance and mean/mean of the annual water usage."
      ]
    },
    {
      "cell_type": "code",
      "metadata": {
        "id": "2Np5n3F5ZwjW",
        "colab_type": "code",
        "outputId": "69c4cb01-9217-4c48-cb31-00cc15a059c4",
        "colab": {
          "base_uri": "https://localhost:8080/",
          "height": 295
        }
      },
      "source": [
        "rolmean = X_train.rolling(window=2).mean()\n",
        "rolstd = X_train.rolling(window=2).std()\n",
        "plt.plot(X_train)\n",
        "plt.plot(rolmean,color='red',label='Roling Mean')\n",
        "plt.plot(rolstd,color='black',label='Roling STD')\n",
        "plt.xlabel('Year')\n",
        "plt.ylabel('Annual Water Usage')\n",
        "plt.title('The Rolling Mean and Standard Deviation Annual Water Usage in Baltimore')\n",
        "plt.legend(loc='best')\n",
        "plt.show()"
      ],
      "execution_count": 11,
      "outputs": [
        {
          "output_type": "display_data",
          "data": {
            "image/png": "[encoded data removed]",
            "text/plain": [
              "<Figure size 432x288 with 1 Axes>"
            ]
          },
          "metadata": {
            "tags": []
          }
        }
      ]
    },
    {
      "cell_type": "markdown",
      "metadata": {
        "id": "uXXssByBfanm",
        "colab_type": "text"
      },
      "source": [
        "Based on the visualization, we can know the calculate of rolling mean and standard deviation on annual water usage in a year. There is no significance difference between the result of rolling mean and rolling standard deviation."
      ]
    },
    {
      "cell_type": "code",
      "metadata": {
        "id": "Aljx8WzZe5Y1",
        "colab_type": "code",
        "outputId": "6a5f1da8-ba1e-49c9-e526-15f921cdd617",
        "colab": {
          "base_uri": "https://localhost:8080/",
          "height": 287
        }
      },
      "source": [
        "# subplot graph\n",
        "X_train.plot(kind='kde')"
      ],
      "execution_count": 12,
      "outputs": [
        {
          "output_type": "execute_result",
          "data": {
            "text/plain": [
              "<matplotlib.axes._subplots.AxesSubplot at 0x7fd7d01d84e0>"
            ]
          },
          "metadata": {
            "tags": []
          },
          "execution_count": 12
        },
        {
          "output_type": "display_data",
          "data": {
            "image/png": "[encoded data removed]",
            "text/plain": [
              "<Figure size 432x288 with 1 Axes>"
            ]
          },
          "metadata": {
            "tags": []
          }
        }
      ]
    },
    {
      "cell_type": "markdown",
      "metadata": {
        "id": "afWvZ0KSh_8t",
        "colab_type": "text"
      },
      "source": [
        "Based on the subplot, the distribution is not Gaussian, but close to."
      ]
    },
    {
      "cell_type": "markdown",
      "metadata": {
        "id": "vWBMWEu4jD4c",
        "colab_type": "text"
      },
      "source": [
        "#### *4. Group the annual data by decade and get an idea of the spread of observations for each decade and how this may be changing.*"
      ]
    },
    {
      "cell_type": "code",
      "metadata": {
        "id": "hQqXSudXjKO3",
        "colab_type": "code",
        "colab": {
          "base_uri": "https://localhost:8080/",
          "height": 54
        },
        "outputId": "4a748853-50cc-41fc-e2b7-a7f664c92ba4"
      },
      "source": [
        "# check min and max year\n",
        "dfdecade =  pd.read_csv('water.csv', error_bad_lines=False)\n",
        "dfdecade = dfdecade.rename(columns={'Baltmore city annual water use, liters per capita per day, 1885-1968': 'water'})\n",
        "dfdecade.water = dfdecade.water.astype('float64')\n",
        "dfdecade['Year'].min()"
      ],
      "execution_count": 13,
      "outputs": [
        {
          "output_type": "stream",
          "text": [
            "b'Skipping line 82: expected 2 fields, saw 3\\n'\n"
          ],
          "name": "stderr"
        },
        {
          "output_type": "execute_result",
          "data": {
            "text/plain": [
              "1885"
            ]
          },
          "metadata": {
            "tags": []
          },
          "execution_count": 13
        }
      ]
    },
    {
      "cell_type": "code",
      "metadata": {
        "id": "SE9yJMMnj21r",
        "colab_type": "code",
        "colab": {
          "base_uri": "https://localhost:8080/",
          "height": 35
        },
        "outputId": "b108f836-d630-4bb7-aa60-bba02a9cf091"
      },
      "source": [
        "dfdecade['Year'].max()"
      ],
      "execution_count": 14,
      "outputs": [
        {
          "output_type": "execute_result",
          "data": {
            "text/plain": [
              "1963"
            ]
          },
          "metadata": {
            "tags": []
          },
          "execution_count": 14
        }
      ]
    },
    {
      "cell_type": "code",
      "metadata": {
        "id": "cro-doYdj6vC",
        "colab_type": "code",
        "colab": {}
      },
      "source": [
        "labels=[\"{0} - {1}\".format(i, i+9) for i in range(1885, 1960, 10)]\n",
        "dfdecade['Decade']=pd.cut(dfdecade.Year, range(1885, 1968, 10), right=False, labels=labels)"
      ],
      "execution_count": 0,
      "outputs": []
    },
    {
      "cell_type": "code",
      "metadata": {
        "id": "WaEcUK1wkEl8",
        "colab_type": "code",
        "colab": {
          "base_uri": "https://localhost:8080/",
          "height": 198
        },
        "outputId": "ad12c160-c8a2-4216-f1b6-b6aacb3e2dec"
      },
      "source": [
        "dfdecade.head()"
      ],
      "execution_count": 16,
      "outputs": [
        {
          "output_type": "execute_result",
          "data": {
            "text/html": [
              "<div>\n",
              "<style scoped>\n",
              "    .dataframe tbody tr th:only-of-type {\n",
              "        vertical-align: middle;\n",
              "    }\n",
              "\n",
              "    .dataframe tbody tr th {\n",
              "        vertical-align: top;\n",
              "    }\n",
              "\n",
              "    .dataframe thead th {\n",
              "        text-align: right;\n",
              "    }\n",
              "</style>\n",
              "<table border=\"1\" class=\"dataframe\">\n",
              "  <thead>\n",
              "    <tr style=\"text-align: right;\">\n",
              "      <th></th>\n",
              "      <th>Year</th>\n",
              "      <th>water</th>\n",
              "      <th>Decade</th>\n",
              "    </tr>\n",
              "  </thead>\n",
              "  <tbody>\n",
              "    <tr>\n",
              "      <th>0</th>\n",
              "      <td>1885</td>\n",
              "      <td>356.0</td>\n",
              "      <td>1885 - 1894</td>\n",
              "    </tr>\n",
              "    <tr>\n",
              "      <th>1</th>\n",
              "      <td>1886</td>\n",
              "      <td>386.0</td>\n",
              "      <td>1885 - 1894</td>\n",
              "    </tr>\n",
              "    <tr>\n",
              "      <th>2</th>\n",
              "      <td>1887</td>\n",
              "      <td>397.0</td>\n",
              "      <td>1885 - 1894</td>\n",
              "    </tr>\n",
              "    <tr>\n",
              "      <th>3</th>\n",
              "      <td>1888</td>\n",
              "      <td>397.0</td>\n",
              "      <td>1885 - 1894</td>\n",
              "    </tr>\n",
              "    <tr>\n",
              "      <th>4</th>\n",
              "      <td>1889</td>\n",
              "      <td>413.0</td>\n",
              "      <td>1885 - 1894</td>\n",
              "    </tr>\n",
              "  </tbody>\n",
              "</table>\n",
              "</div>"
            ],
            "text/plain": [
              "   Year  water       Decade\n",
              "0  1885  356.0  1885 - 1894\n",
              "1  1886  386.0  1885 - 1894\n",
              "2  1887  397.0  1885 - 1894\n",
              "3  1888  397.0  1885 - 1894\n",
              "4  1889  413.0  1885 - 1894"
            ]
          },
          "metadata": {
            "tags": []
          },
          "execution_count": 16
        }
      ]
    },
    {
      "cell_type": "markdown",
      "metadata": {
        "id": "F5ZufmXgk71l",
        "colab_type": "text"
      },
      "source": [
        "#### *5. Create models using ARIMA*"
      ]
    },
    {
      "cell_type": "markdown",
      "metadata": {
        "id": "WnR3eN43iYDB",
        "colab_type": "text"
      },
      "source": [
        "#### PACF/ACF\n",
        "By looking at the autocorrelation function (ACF) and partial autocorrelation (PACF) plots of the differenced series, you can tentatively identify the numbers of AR and/or MA terms that are needed. You are already familiar with the ACF plot: it is merely a bar chart of the coefficients of correlation between a time series and lags of itself. The PACF plot is a plot of the partial correlation coefficients between the series and lags of itself."
      ]
    },
    {
      "cell_type": "code",
      "metadata": {
        "id": "0bjnloYWZ0W5",
        "colab_type": "code",
        "outputId": "fd3fb215-ad03-4fe3-8810-ab46b42c151b",
        "colab": {
          "base_uri": "https://localhost:8080/",
          "height": 165
        }
      },
      "source": [
        "print('Dickey-fuller test')\n",
        "dftest = adfuller(X_train['water'],autolag='AIC')\n",
        "print(dftest)\n",
        "dfoutput=pd.Series(dftest[0:4],index=['Test Stat','p-value','lag_used','number of obs used'])\n",
        "dfoutput"
      ],
      "execution_count": 17,
      "outputs": [
        {
          "output_type": "stream",
          "text": [
            "Dickey-fuller test\n",
            "(-2.7421004965362523, 0.06703204860767971, 1, 50, {'1%': -3.568485864, '5%': -2.92135992, '10%': -2.5986616}, 384.2395531843111)\n"
          ],
          "name": "stdout"
        },
        {
          "output_type": "execute_result",
          "data": {
            "text/plain": [
              "Test Stat             -2.742100\n",
              "p-value                0.067032\n",
              "lag_used               1.000000\n",
              "number of obs used    50.000000\n",
              "dtype: float64"
            ]
          },
          "metadata": {
            "tags": []
          },
          "execution_count": 17
        }
      ]
    },
    {
      "cell_type": "markdown",
      "metadata": {
        "id": "BakLx0h8gVQc",
        "colab_type": "text"
      },
      "source": [
        "**The Dickey–Fuller test** tests the null hypothesis that a unit root is present in an autoregressive model. The alternative hypothesis is different depending on which version of the test is used, but is usually stationarity or trend-stationarity."
      ]
    },
    {
      "cell_type": "code",
      "metadata": {
        "id": "a7WaXsgefVrN",
        "colab_type": "code",
        "colab": {
          "base_uri": "https://localhost:8080/",
          "height": 295
        },
        "outputId": "1c357c5d-b2e5-47d2-da8a-ba3041a6b134"
      },
      "source": [
        "X_train2 = np.log(X_train)\n",
        "rolmean = X_train2.rolling(window=2).mean()\n",
        "rolstd = X_train2.rolling(window=2).std()\n",
        "plt.plot(X_train2)\n",
        "plt.plot(rolmean,color='red',label='Roling Mean')\n",
        "plt.plot(rolstd,color='black',label='Roling STD')\n",
        "plt.xlabel('Year')\n",
        "plt.ylabel('Annual Water Usage')\n",
        "plt.title('The Rolling Mean and Standard Deviation Annual Water Usage in Baltimore')\n",
        "plt.legend(loc='best')\n",
        "plt.show()"
      ],
      "execution_count": 18,
      "outputs": [
        {
          "output_type": "display_data",
          "data": {
            "image/png": "[encoded data removed]",
            "text/plain": [
              "<Figure size 432x288 with 1 Axes>"
            ]
          },
          "metadata": {
            "tags": []
          }
        }
      ]
    },
    {
      "cell_type": "code",
      "metadata": {
        "id": "huXyW-_8iyAQ",
        "colab_type": "code",
        "colab": {
          "base_uri": "https://localhost:8080/",
          "height": 287
        },
        "outputId": "2ea07916-48d9-4ae4-9d3e-4fe636167466"
      },
      "source": [
        "plt.plot(rolstd,color='blue',label='Rolling Standard Deviation')"
      ],
      "execution_count": 19,
      "outputs": [
        {
          "output_type": "execute_result",
          "data": {
            "text/plain": [
              "[<matplotlib.lines.Line2D at 0x7fd7cd82a780>]"
            ]
          },
          "metadata": {
            "tags": []
          },
          "execution_count": 19
        },
        {
          "output_type": "display_data",
          "data": {
            "image/png": "[encoded data removed]",
            "text/plain": [
              "<Figure size 432x288 with 1 Axes>"
            ]
          },
          "metadata": {
            "tags": []
          }
        }
      ]
    },
    {
      "cell_type": "code",
      "metadata": {
        "id": "2L2tV1VSmLgW",
        "colab_type": "code",
        "colab": {
          "base_uri": "https://localhost:8080/",
          "height": 165
        },
        "outputId": "122a926d-c38c-4243-dc0d-1a5ac0c0cdd0"
      },
      "source": [
        "print('Dickey-fuller test')\n",
        "diff = X_train['water'] - X_train['water'].shift()\n",
        "diff = diff.dropna()\n",
        "dftest = adfuller(diff,autolag='AIC')\n",
        "print(dftest)\n",
        "dfoutput = pd.Series(dftest[0:4],index=['Test Stat','p-value','lag_used','number of obs used'])\n",
        "dfoutput"
      ],
      "execution_count": 20,
      "outputs": [
        {
          "output_type": "stream",
          "text": [
            "Dickey-fuller test\n",
            "(-5.27370010615997, 6.20599989595577e-06, 1, 49, {'1%': -3.5714715250448363, '5%': -2.922629480573571, '10%': -2.5993358475635153}, 381.5868098955805)\n"
          ],
          "name": "stdout"
        },
        {
          "output_type": "execute_result",
          "data": {
            "text/plain": [
              "Test Stat             -5.273700\n",
              "p-value                0.000006\n",
              "lag_used               1.000000\n",
              "number of obs used    49.000000\n",
              "dtype: float64"
            ]
          },
          "metadata": {
            "tags": []
          },
          "execution_count": 20
        }
      ]
    },
    {
      "cell_type": "code",
      "metadata": {
        "id": "dlLz2KdBmeVo",
        "colab_type": "code",
        "colab": {
          "base_uri": "https://localhost:8080/",
          "height": 361
        },
        "outputId": "d30beb65-dfed-41d1-cbfa-59dcd651903f"
      },
      "source": [
        "plt.figure(figsize=(15,5))\n",
        "plt.plot(diff)"
      ],
      "execution_count": 21,
      "outputs": [
        {
          "output_type": "execute_result",
          "data": {
            "text/plain": [
              "[<matplotlib.lines.Line2D at 0x7fd7cd576be0>]"
            ]
          },
          "metadata": {
            "tags": []
          },
          "execution_count": 21
        },
        {
          "output_type": "display_data",
          "data": {
            "image/png": "[encoded data removed]",
            "text/plain": [
              "<Figure size 1080x360 with 1 Axes>"
            ]
          },
          "metadata": {
            "tags": []
          }
        }
      ]
    },
    {
      "cell_type": "markdown",
      "metadata": {
        "id": "6_IGGr7WmiXf",
        "colab_type": "text"
      },
      "source": [
        "### GRAPH OF PACF/ACF"
      ]
    },
    {
      "cell_type": "code",
      "metadata": {
        "id": "OgUm99zNmlNs",
        "colab_type": "code",
        "colab": {
          "base_uri": "https://localhost:8080/",
          "height": 545
        },
        "outputId": "5e992ffc-0b56-4e41-f333-f15d879a0aa6"
      },
      "source": [
        "import statsmodels.graphics.tsaplots as sts\n",
        "sts.plot_acf(X_train, lags=20)\n",
        "sts.plot_pacf(X_train, lags=20)\n",
        "plt.show()"
      ],
      "execution_count": 22,
      "outputs": [
        {
          "output_type": "display_data",
          "data": {
            "image/png": "[encoded data removed]",
            "text/plain": [
              "<Figure size 432x288 with 1 Axes>"
            ]
          },
          "metadata": {
            "tags": []
          }
        },
        {
          "output_type": "display_data",
          "data": {
            "image/png": "[encoded data removed]",
            "text/plain": [
              "<Figure size 432x288 with 1 Axes>"
            ]
          },
          "metadata": {
            "tags": []
          }
        }
      ]
    }
  ]
}